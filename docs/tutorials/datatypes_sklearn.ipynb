{
 "cells": [
  {
   "cell_type": "code",
   "execution_count": 1,
   "metadata": {},
   "outputs": [],
   "source": [
    "from sklearn.utils import Bunch\n",
    "import numpy as np\n",
    "\n",
    "data = np.array([[1, 2, 3], [4, 5, 6], [7, 8, 9]])\n",
    "target = np.array([1, 0, 1])\n",
    "feature_names = ['feature1', 'feature2', 'feature3']\n",
    "target_names = ['class0', 'class1']\n",
    "\n",
    "# Create the Bunch object\n",
    "my_bunch = Bunch(data=data, target=target, feature_names=feature_names, target_names=target_names)\n"
   ]
  },
  {
   "cell_type": "code",
   "execution_count": 2,
   "metadata": {},
   "outputs": [
    {
     "name": "stdout",
     "output_type": "stream",
     "text": [
      "[1 1 1]\n",
      "[0.66665234 0.66666141 0.66667048]\n"
     ]
    }
   ],
   "source": [
    "from sklearn.linear_model import LogisticRegression\n",
    "\n",
    "# Load the iris dataset\n",
    "X = my_bunch.data\n",
    "y = my_bunch.target\n",
    "\n",
    "# Fit a model\n",
    "model = LogisticRegression()\n",
    "model.fit(X, y)\n",
    "y_pred = model.predict(X)\n",
    "print(y_pred)\n",
    "y_pred_proba = model.predict_proba(X)[:, 1]\n",
    "print(y_pred_proba)"
   ]
  },
  {
   "cell_type": "code",
   "execution_count": 12,
   "metadata": {},
   "outputs": [
    {
     "name": "stdout",
     "output_type": "stream",
     "text": [
      "[1 0 1]\n",
      "[0.77027068 0.45375714 0.77596418]\n",
      "[1 0 1]\n",
      "[0.77027068 0.45375714 0.77596418]\n",
      "[1 0 1]\n",
      "[0.77027068 0.45375714 0.77596418]\n",
      "[0.45592253 0.46512163 0.46499517] -0.3241054672448133\n"
     ]
    }
   ],
   "source": [
    "import pandas as pd\n",
    "data_list = [[1.1, 1.12, 1.1], [0.1, 0.1, 0.1], [1.11, 1.13, 1.15]]\n",
    "target_list = [1, 0, 1] \n",
    "data_array = np.array(data_list)\n",
    "target_array = np.array(target_list)\n",
    "data_frame = pd.DataFrame(data_list, columns=['feature1', 'feature2', 'feature3'])\n",
    "data_frame['target'] = target_list\n",
    "\n",
    "\n",
    "# Fit a model use the list\n",
    "logit = LogisticRegression()\n",
    "logit.fit(data_list, target_list)\n",
    "print(logit.predict(data_list))\n",
    "print(logit.predict_proba(data_list)[:, 1])\n",
    "\n",
    "# Fit a model use the array\n",
    "logit1 = LogisticRegression()\n",
    "logit1.fit(data_array, target_array)\n",
    "print(logit1.predict(data_array))\n",
    "print(logit1.predict_proba(data_array)[:, 1])\n",
    "\n",
    "# Fit a model use the DataFrame\n",
    "logit2 = LogisticRegression()\n",
    "logit2.fit(data_frame[['feature1', 'feature2', 'feature3']], data_frame['target'])\n",
    "print(logit2.predict(data_frame[['feature1', 'feature2', 'feature3']]))\n",
    "print(logit2.predict_proba(data_frame[['feature1', 'feature2', 'feature3']])[:, 1])\n",
    "\n",
    "coef2 = logit2.coef_[0]\n",
    "intercept2 = logit2.intercept_[0]\n",
    "print(coef2, intercept2)"
   ]
  },
  {
   "cell_type": "code",
   "execution_count": 13,
   "metadata": {},
   "outputs": [
    {
     "name": "stdout",
     "output_type": "stream",
     "text": [
      "           Coefficient  Standard Error  Wald Statistic   p-value\n",
      "feature1      0.455923    5.188842e+07    7.720425e-17  1.000000\n",
      "feature2      0.465122    5.062285e+07    8.441894e-17  1.000000\n",
      "feature3      0.464995    2.531143e+05    3.374922e-12  0.999999\n",
      "intercept    -0.324105    1.012457e+05    1.024754e-11  0.999997\n"
     ]
    }
   ],
   "source": [
    "# Calculate the standard errors of the coefficients\n",
    "# The covariance matrix of the coefficients is the inverse of the Hessian matrix\n",
    "from scipy import stats\n",
    "\n",
    "X_train = data_frame[['feature1', 'feature2', 'feature3']]\n",
    "X_train = np.hstack((X_train, np.ones((X_train.shape[0], 1))))\n",
    "cov_matrix = np.linalg.inv(np.dot(X_train.T, X_train))\n",
    "standard_errors = np.sqrt(np.diag(cov_matrix))\n",
    "\n",
    "# Perform the Wald test\n",
    "wald_statistics = (np.append(coef2, intercept2) / standard_errors) ** 2\n",
    "p_values = stats.chi2.sf(wald_statistics, df=1)\n",
    "\n",
    "# Create a DataFrame to display the results\n",
    "results = pd.DataFrame({\n",
    "    'Coefficient': np.append(coef2, intercept2),\n",
    "    'Standard Error': standard_errors, \n",
    "    'Wald Statistic': wald_statistics, \n",
    "    'p-value': p_values\n",
    "}, index=['feature1', 'feature2', 'feature3', 'intercept'])\n",
    "\n",
    "print(results)"
   ]
  },
  {
   "cell_type": "code",
   "execution_count": 24,
   "metadata": {},
   "outputs": [
    {
     "name": "stdout",
     "output_type": "stream",
     "text": [
      "[[0.45592253 0.46512163 0.46499517]]\n",
      "[-0.32410547]\n"
     ]
    },
    {
     "name": "stderr",
     "output_type": "stream",
     "text": [
      "d:\\anaconda3\\Lib\\site-packages\\sklearn\\linear_model\\_logistic.py:1247: FutureWarning:\n",
      "\n",
      "'multi_class' was deprecated in version 1.5 and will be removed in 1.7. From then on, it will always use 'multinomial'. Leave it to its default value to avoid this warning.\n",
      "\n"
     ]
    },
    {
     "data": {
      "text/html": [
       "<div>\n",
       "<style scoped>\n",
       "    .dataframe tbody tr th:only-of-type {\n",
       "        vertical-align: middle;\n",
       "    }\n",
       "\n",
       "    .dataframe tbody tr th {\n",
       "        vertical-align: top;\n",
       "    }\n",
       "\n",
       "    .dataframe thead th {\n",
       "        text-align: right;\n",
       "    }\n",
       "</style>\n",
       "<table border=\"1\" class=\"dataframe\">\n",
       "  <thead>\n",
       "    <tr style=\"text-align: right;\">\n",
       "      <th></th>\n",
       "      <th>Coef.</th>\n",
       "      <th>Std.Err</th>\n",
       "      <th>z</th>\n",
       "      <th>P&gt;|z|</th>\n",
       "    </tr>\n",
       "  </thead>\n",
       "  <tbody>\n",
       "    <tr>\n",
       "      <th>const</th>\n",
       "      <td>-0.324105</td>\n",
       "      <td>2.798462e+05</td>\n",
       "      <td>-1.158156e-06</td>\n",
       "      <td>0.999999</td>\n",
       "    </tr>\n",
       "    <tr>\n",
       "      <th>feature1</th>\n",
       "      <td>0.455923</td>\n",
       "      <td>1.434212e+08</td>\n",
       "      <td>3.178906e-09</td>\n",
       "      <td>1.000000</td>\n",
       "    </tr>\n",
       "    <tr>\n",
       "      <th>feature2</th>\n",
       "      <td>0.465122</td>\n",
       "      <td>1.399231e+08</td>\n",
       "      <td>3.324123e-09</td>\n",
       "      <td>1.000000</td>\n",
       "    </tr>\n",
       "    <tr>\n",
       "      <th>feature3</th>\n",
       "      <td>0.464995</td>\n",
       "      <td>6.996156e+05</td>\n",
       "      <td>6.646438e-07</td>\n",
       "      <td>0.999999</td>\n",
       "    </tr>\n",
       "  </tbody>\n",
       "</table>\n",
       "</div>"
      ],
      "text/plain": [
       "             Coef.       Std.Err             z     P>|z|\n",
       "const    -0.324105  2.798462e+05 -1.158156e-06  0.999999\n",
       "feature1  0.455923  1.434212e+08  3.178906e-09  1.000000\n",
       "feature2  0.465122  1.399231e+08  3.324123e-09  1.000000\n",
       "feature3  0.464995  6.996156e+05  6.646438e-07  0.999999"
      ]
     },
     "execution_count": 24,
     "metadata": {},
     "output_type": "execute_result"
    }
   ],
   "source": [
    "from skorecard.linear_model import LogisticRegression as skorecard_logit\n",
    "sklogit = skorecard_logit(calculate_stats=True)\n",
    "sklogit.fit(data_frame[['feature1', 'feature2', 'feature3']], data_frame['target'])\n",
    "print(sklogit.coef_)\n",
    "print(sklogit.intercept_)\n",
    "sklogit.get_stats()\n",
    "\n",
    "\n",
    "\n",
    "\n"
   ]
  },
  {
   "cell_type": "code",
   "execution_count": 57,
   "metadata": {},
   "outputs": [
    {
     "name": "stdout",
     "output_type": "stream",
     "text": [
      "2\n",
      "3\n",
      "[[1.]\n",
      " [1.]\n",
      " [1.]]\n",
      "[[ 82. 173. 228.  10.]\n",
      " [173. 365. 481.  21.]\n",
      " [228. 481. 634.  28.]\n",
      " [ 10.  21.  28.   2.]]\n",
      "[[ 1.66913998e+14 -3.69399833e+13 -3.21514669e+13  3.42036881e+12]\n",
      " [ 2.38257967e+18  2.13365343e+17 -1.03126583e+18  2.84487125e+17]\n",
      " [-1.84114498e+18 -1.64859787e+17  7.96898921e+17 -2.19832204e+17]\n",
      " [ 7.58108705e+17  6.78856147e+16 -3.28132959e+17  9.05189415e+16]]\n",
      "[1.29195201e+07 4.61914866e+08 8.92691952e+08 3.00863659e+08]\n"
     ]
    }
   ],
   "source": [
    "Array1 = np.array([[1,2,3],[9,19,25]])\n",
    "print(Array1.shape[0])\n",
    "print(Array1.shape[1])\n",
    "print(np.ones((Array1.shape[1], 1)))\n",
    "Array2 = np.hstack((Array1, np.ones((Array1.shape[0], 1))))\n",
    "Array3 = np.dot(Array2.T, Array2)\n",
    "print(Array3)\n",
    "print(np.linalg.inv(Array3))\n",
    "print(np.sqrt(np.diag(np.linalg.inv(Array3))))\n"
   ]
  }
 ],
 "metadata": {
  "kernelspec": {
   "display_name": "base",
   "language": "python",
   "name": "python3"
  },
  "language_info": {
   "codemirror_mode": {
    "name": "ipython",
    "version": 3
   },
   "file_extension": ".py",
   "mimetype": "text/x-python",
   "name": "python",
   "nbconvert_exporter": "python",
   "pygments_lexer": "ipython3",
   "version": "3.12.7"
  }
 },
 "nbformat": 4,
 "nbformat_minor": 2
}
