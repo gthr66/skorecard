{
 "cells": [
  {
   "cell_type": "code",
   "execution_count": 2,
   "metadata": {},
   "outputs": [],
   "source": [
    "from sklearn.utils import Bunch\n",
    "import numpy as np\n",
    "\n",
    "data = np.array([[1, 2, 3], [4, 5, 6], [7, 8, 9]])\n",
    "target = np.array([1, 0, 1])\n",
    "feature_names = ['feature1', 'feature2', 'feature3']\n",
    "target_names = ['class0', 'class1']\n",
    "\n",
    "# Create the Bunch object\n",
    "my_bunch = Bunch(data=data, target=target, feature_names=feature_names, target_names=target_names)\n"
   ]
  },
  {
   "cell_type": "code",
   "execution_count": 3,
   "metadata": {},
   "outputs": [
    {
     "name": "stdout",
     "output_type": "stream",
     "text": [
      "[1 1 1]\n",
      "[0.66665234 0.66666141 0.66667048]\n"
     ]
    }
   ],
   "source": [
    "from sklearn.linear_model import LogisticRegression\n",
    "\n",
    "# Load the iris dataset\n",
    "X = my_bunch.data\n",
    "y = my_bunch.target\n",
    "\n",
    "# Fit a model\n",
    "model = LogisticRegression()\n",
    "model.fit(X, y)\n",
    "y_pred = model.predict(X)\n",
    "print(y_pred)\n",
    "y_pred_proba = model.predict_proba(X)[:, 1]\n",
    "print(y_pred_proba)"
   ]
  },
  {
   "cell_type": "code",
   "execution_count": 49,
   "metadata": {},
   "outputs": [
    {
     "name": "stdout",
     "output_type": "stream",
     "text": [
      "[1 0 1]\n",
      "[0.77885766 0.46121674 0.75987592]\n",
      "[1 0 1]\n",
      "[0.77885766 0.46121674 0.75987592]\n",
      "[1 0 1]\n",
      "[0.77885766 0.46121674 0.75987592]\n",
      "[0.4852305  0.447298   0.43720871] -0.33714882400900953\n"
     ]
    }
   ],
   "source": [
    "import pandas as pd\n",
    "data_list = [[1.1, 1.3, 1.1], [0.1, 0.2, 0.1], [1.2, 1.05, 1]]\n",
    "target_list = [1, 0, 1] \n",
    "data_array = np.array(data_list)\n",
    "target_array = np.array(target_list)\n",
    "data_frame = pd.DataFrame(data_list, columns=['feature1', 'feature2', 'feature3'])\n",
    "data_frame['target'] = target_list\n",
    "\n",
    "\n",
    "# Fit a model use the list\n",
    "logit = LogisticRegression()\n",
    "logit.fit(data_list, target_list)\n",
    "print(logit.predict(data_list))\n",
    "print(logit.predict_proba(data_list)[:, 1])\n",
    "\n",
    "# Fit a model use the array\n",
    "logit1 = LogisticRegression()\n",
    "logit1.fit(data_array, target_array)\n",
    "print(logit1.predict(data_array))\n",
    "print(logit1.predict_proba(data_array)[:, 1])\n",
    "\n",
    "# Fit a model use the DataFrame\n",
    "logit2 = LogisticRegression()\n",
    "logit2.fit(data_frame[['feature1', 'feature2', 'feature3']], data_frame['target'])\n",
    "print(logit2.predict(data_frame[['feature1', 'feature2', 'feature3']]))\n",
    "print(logit2.predict_proba(data_frame[['feature1', 'feature2', 'feature3']])[:, 1])\n",
    "\n",
    "coef2 = logit2.coef_[0]\n",
    "intercept2 = logit2.intercept_[0]\n",
    "print(coef2, intercept2)"
   ]
  },
  {
   "cell_type": "code",
   "execution_count": 53,
   "metadata": {},
   "outputs": [
    {
     "name": "stdout",
     "output_type": "stream",
     "text": [
      "           Coefficient  Standard Error  Wald Statistic  p-value\n",
      "feature1      0.485231    2.002408e+07    5.872067e-16      1.0\n",
      "feature2      0.447298    2.860583e+07    2.445034e-16      1.0\n",
      "feature3      0.437209    5.149049e+07    7.209805e-17      1.0\n",
      "intercept    -0.337149    2.574525e+06    1.714941e-14      1.0\n"
     ]
    }
   ],
   "source": [
    "# Calculate the standard errors of the coefficients\n",
    "# The covariance matrix of the coefficients is the inverse of the Hessian matrix\n",
    "from scipy import stats\n",
    "\n",
    "X_train = data_frame[['feature1', 'feature2', 'feature3']]\n",
    "X_train = np.hstack((X_train, np.ones((X_train.shape[0], 1))))\n",
    "cov_matrix = np.linalg.inv(np.dot(X_train.T, X_train))\n",
    "standard_errors = np.sqrt(np.diag(cov_matrix))\n",
    "\n",
    "# Perform the Wald test\n",
    "wald_statistics = (np.append(coef2, intercept2) / standard_errors) ** 2\n",
    "p_values = stats.chi2.sf(wald_statistics, df=1)\n",
    "\n",
    "# Create a DataFrame to display the results\n",
    "results = pd.DataFrame({\n",
    "    'Coefficient': np.append(coef2, intercept2),\n",
    "    'Standard Error': standard_errors, \n",
    "    'Wald Statistic': wald_statistics, \n",
    "    'p-value': p_values\n",
    "}, index=['feature1', 'feature2', 'feature3', 'intercept'])\n",
    "\n",
    "print(results)"
   ]
  }
 ],
 "metadata": {
  "kernelspec": {
   "display_name": "base",
   "language": "python",
   "name": "python3"
  },
  "language_info": {
   "codemirror_mode": {
    "name": "ipython",
    "version": 3
   },
   "file_extension": ".py",
   "mimetype": "text/x-python",
   "name": "python",
   "nbconvert_exporter": "python",
   "pygments_lexer": "ipython3",
   "version": "3.12.7"
  }
 },
 "nbformat": 4,
 "nbformat_minor": 2
}
