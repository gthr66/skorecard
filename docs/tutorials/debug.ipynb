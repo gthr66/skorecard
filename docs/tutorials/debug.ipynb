{
 "cells": [
  {
   "cell_type": "code",
   "execution_count": null,
   "metadata": {},
   "outputs": [],
   "source": [
    "print(\"Before breakpoint\")  # Verify code path\n",
    "x = 10\n",
    "# Set breakpoint on the next line\n",
    "y = x + 5\n",
    "print(\"After breakpoint\")  # This should not run if the breakpoint is hit"
   ]
  }
 ],
 "metadata": {
  "kernelspec": {
   "display_name": "Python 3 (ipykernel)",
   "language": "python",
   "name": "python3"
  }
 },
 "nbformat": 4,
 "nbformat_minor": 2
}
