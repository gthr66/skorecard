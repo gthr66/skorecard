{
 "cells": [
  {
   "cell_type": "markdown",
   "id": "16982a1c",
   "metadata": {},
   "source": [
    "# Credit Risk Model Recalibration in Python\n",
    "This notebook demonstrates how to train a logistic regression model for PD estimation and recalibrate it using actual default outcomes."
   ]
  },
  {
   "cell_type": "code",
   "execution_count": null,
   "id": "98830ba9",
   "metadata": {},
   "outputs": [],
   "source": [
    "import pandas as pd\n",
    "import numpy as np\n",
    "import statsmodels.api as sm\n",
    "from sklearn.linear_model import LogisticRegression\n",
    "from sklearn.preprocessing import StandardScaler\n",
    "import matplotlib.pyplot as plt\n",
    "import seaborn as sns\n",
    "\n",
    "# Set random seed for reproducibility\n",
    "np.random.seed(42)\n"
   ]
  },
  {
   "cell_type": "code",
   "execution_count": null,
   "id": "61ae61b1",
   "metadata": {},
   "outputs": [],
   "source": [
    "# Generate synthetic historical data\n",
    "n_samples = 1000\n",
    "historical_data = pd.DataFrame({\n",
    "    'Income': np.random.normal(50000, 15000, n_samples),\n",
    "    'Age': np.random.randint(20, 70, n_samples),\n",
    "    'DebtToIncome': np.random.uniform(0.1, 0.5, n_samples),\n",
    "    'CreditScore': np.random.normal(700, 50, n_samples),\n",
    "    'Default': np.random.binomial(1, 0.1, n_samples)  # 10% default rate\n",
    "})\n",
    "\n",
    "# Prepare features\n",
    "X = historical_data[['Income', 'Age', 'DebtToIncome', 'CreditScore']]\n",
    "y = historical_data['Default']\n",
    "\n",
    "# Standardize numeric features\n",
    "scaler = StandardScaler()\n",
    "X_scaled = scaler.fit_transform(X)\n",
    "\n",
    "# Train logistic regression model\n",
    "logit_model = LogisticRegression()\n",
    "logit_model.fit(X_scaled, y)\n",
    "\n",
    "# Store PD estimates\n",
    "historical_data['PD_hat'] = logit_model.predict_proba(X_scaled)[:, 1]\n"
   ]
  },
  {
   "cell_type": "code",
   "execution_count": null,
   "id": "1dc38676",
   "metadata": {},
   "outputs": [],
   "source": [
    "# Generate synthetic current data\n",
    "current_data = pd.DataFrame({\n",
    "    'Income': np.random.normal(52000, 14000, n_samples),\n",
    "    'Age': np.random.randint(22, 68, n_samples),\n",
    "    'DebtToIncome': np.random.uniform(0.1, 0.6, n_samples),\n",
    "    'CreditScore': np.random.normal(710, 55, n_samples),\n",
    "    'Actual_Default': np.random.binomial(1, 0.12, n_samples)  # 12% default rate\n",
    "})\n",
    "\n",
    "# Standardize using the same scaler\n",
    "X_current = current_data[['Income', 'Age', 'DebtToIncome', 'CreditScore']]\n",
    "X_current_scaled = scaler.transform(X_current)\n",
    "\n",
    "# Predict PDs using the original model\n",
    "current_data['PD_hat'] = logit_model.predict_proba(X_current_scaled)[:, 1]\n"
   ]
  },
  {
   "cell_type": "code",
   "execution_count": null,
   "id": "6d3f43a8",
   "metadata": {},
   "outputs": [],
   "source": [
    "# Fit recalibration model: Actual default ~ PD_hat\n",
    "X_recalibration = sm.add_constant(current_data[['PD_hat']])  # Add intercept\n",
    "recalibration_model = sm.Logit(current_data['Actual_Default'], X_recalibration).fit()\n",
    "\n",
    "# Predict recalibrated PDs\n",
    "current_data['PD_recalibrated'] = recalibration_model.predict(X_recalibration)\n"
   ]
  },
  {
   "cell_type": "code",
   "execution_count": null,
   "id": "a7b57510",
   "metadata": {},
   "outputs": [],
   "source": [
    "# Plot histograms of PD_hat vs PD_recalibrated\n",
    "plt.figure(figsize=(10,5))\n",
    "sns.histplot(current_data['PD_hat'], label='Original PD', kde=True, color='blue', alpha=0.6)\n",
    "sns.histplot(current_data['PD_recalibrated'], label='Recalibrated PD', kde=True, color='red', alpha=0.6)\n",
    "plt.xlabel('Probability of Default (PD)')\n",
    "plt.ylabel('Density')\n",
    "plt.legend()\n",
    "plt.title('Comparison of Original and Recalibrated PDs')\n",
    "plt.show()\n"
   ]
  }
 ],
 "metadata": {},
 "nbformat": 4,
 "nbformat_minor": 5
}